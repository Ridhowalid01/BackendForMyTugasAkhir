{
 "cells": [
  {
   "cell_type": "code",
   "execution_count": 5,
   "metadata": {},
   "outputs": [],
   "source": [
    "import librosa\n",
    "import matplotlib.pyplot as plt\n",
    "import numpy as np\n",
    "import IPython.display as ipd\n",
    "import noisereduce as nr\n",
    "from scipy.io import wavfile\n",
    "from fastdtw import fastdtw"
   ]
  },
  {
   "cell_type": "code",
   "execution_count": 66,
   "metadata": {},
   "outputs": [],
   "source": [
    "def preprocessing(audio):\n",
    "    y , sr = librosa.load(audio, sr=16000)\n",
    "    y, _ = librosa.effects.trim(y, top_db=20)\n",
    "    # y = librosa.effects.preemphasis(y)\n",
    "    y = nr.reduce_noise(y, sr)\n",
    "    return y,sr"
   ]
  },
  {
   "cell_type": "code",
   "execution_count": 72,
   "metadata": {},
   "outputs": [
    {
     "name": "stdout",
     "output_type": "stream",
     "text": [
      "Distance = 154186.40060305397\n",
      "Distance = 225151.32396884385\n",
      "Distance = 234882.78051406317\n",
      "Distance = 284184.6722599333\n"
     ]
    }
   ],
   "source": [
    "def extraction(audio):\n",
    "    y , sr = preprocessing(audio)\n",
    "    y = librosa.effects.preemphasis(y)\n",
    "    mfccs = librosa.feature.mfcc(y=y, sr=sr, n_mfcc=13, window='hamming', htk=False, hop_length=156, n_fft=512, norm='ortho', n_mels=20)\n",
    "    return mfccs.T\n",
    "\n",
    "audio_path1 = \"../Dataset/01.Ha\\'/Ha\\'_M1_1.wav\"\n",
    "audio_path2 = \"../Dataset/01.Ha\\'/Ha\\'_M1_2.wav\"\n",
    "audio_path3 = '../Dataset/09.Qaf/Qaf_M1_1.wav'\n",
    "audio_path4 = '../Dataset/09.Qaf/Qaf_F2_1.wav'\n",
    "audio_path5 = \"../Dataset/01.Ha\\'/Ha\\'_F2_1.wav\"\n",
    "\n",
    "\n",
    "mfccs1 = extraction(audio_path1)\n",
    "mfccs2 = extraction(audio_path2)\n",
    "mfccs3 = extraction(audio_path3)\n",
    "mfccs4 = extraction(audio_path4)\n",
    "mfccs5 = extraction(audio_path5)\n",
    "                                        # Bacaan, Orang\n",
    "distance, path = fastdtw(mfccs1, mfccs2) # sama sama\n",
    "distance1, path1 = fastdtw(mfccs1, mfccs5) # sama, beda\n",
    "distance2, path2 = fastdtw(mfccs1, mfccs3) # beda, sama\n",
    "distance3, path3 = fastdtw(mfccs1, mfccs4) # beda, beda\n",
    "\n",
    "\n",
    "print(f'Distance = {distance}')\n",
    "print(f'Distance = {distance1}')\n",
    "print(f'Distance = {distance2}')\n",
    "print(f'Distance = {distance3}')"
   ]
  },
  {
   "cell_type": "code",
   "execution_count": 65,
   "metadata": {},
   "outputs": [
    {
     "name": "stdout",
     "output_type": "stream",
     "text": [
      "Distance = 251718.50694723558\n",
      "Distance = 375376.6855707421\n",
      "Distance = 452413.9578237422\n",
      "Distance = 469121.50590630795\n"
     ]
    }
   ],
   "source": [
    "from python_speech_features import mfcc\n",
    "from python_speech_features import delta\n",
    "from fastdtw import fastdtw\n",
    "import scipy.io.wavfile as wav\n",
    "import numpy as np\n",
    "\n",
    "def extraction(audio):\n",
    "    sig, rate = preprocessing(audio)\n",
    "    mfcc_feat = mfcc(sig,\n",
    "                samplerate=16000,\n",
    "                winlen=0.025,\n",
    "                winstep=0.01,\n",
    "                numcep=12,\n",
    "                nfilt=26,\n",
    "                preemph=0.97,\n",
    "                ceplifter=22,\n",
    "                winfunc=np.hamming)\n",
    "    # mfcc_feat = delta(mfcc_feat, 1)\n",
    "    # mfcc_feat = delta(mfcc_feat, 2)\n",
    "    # return np.mean(mfcc_feat, axis=0)\n",
    "    return mfcc_feat\n",
    "\n",
    "\n",
    "\n",
    "audio_path1 = \"../Dataset/01.Ha\\'/Ha\\'_M1_1.wav\"\n",
    "audio_path2 = \"../Dataset/01.Ha\\'/Ha\\'_M1_2.wav\"\n",
    "audio_path3 = '../Dataset/09.Qaf/Qaf_M1_1.wav'\n",
    "audio_path4 = '../Dataset/09.Qaf/Qaf_F2_1.wav'\n",
    "audio_path5 = \"../Dataset/01.Ha\\'/Ha\\'_F2_1.wav\"\n",
    "\n",
    "\n",
    "mfccs1 = extraction(audio_path1)\n",
    "mfccs2 = extraction(audio_path2)\n",
    "mfccs3 = extraction(audio_path3)\n",
    "mfccs4 = extraction(audio_path4)\n",
    "mfccs5 = extraction(audio_path5)\n",
    "                                        # Bacaan, Orang\n",
    "distance, path = fastdtw(mfccs1, mfccs2) # sama sama\n",
    "distance1, path1 = fastdtw(mfccs1, mfccs5) # sama, beda\n",
    "distance2, path2 = fastdtw(mfccs1, mfccs3) # beda, sama\n",
    "distance3, path3 = fastdtw(mfccs1, mfccs4) # beda, beda\n",
    "\n",
    "\n",
    "print(f'Distance = {distance}')\n",
    "print(f'Distance = {distance1}')\n",
    "print(f'Distance = {distance2}')\n",
    "print(f'Distance = {distance3}')\n",
    "\n"
   ]
  },
  {
   "cell_type": "code",
   "execution_count": null,
   "metadata": {},
   "outputs": [],
   "source": []
  }
 ],
 "metadata": {
  "kernelspec": {
   "display_name": "Python 3",
   "language": "python",
   "name": "python3"
  },
  "language_info": {
   "codemirror_mode": {
    "name": "ipython",
    "version": 3
   },
   "file_extension": ".py",
   "mimetype": "text/x-python",
   "name": "python",
   "nbconvert_exporter": "python",
   "pygments_lexer": "ipython3",
   "version": "3.10.4"
  }
 },
 "nbformat": 4,
 "nbformat_minor": 2
}
