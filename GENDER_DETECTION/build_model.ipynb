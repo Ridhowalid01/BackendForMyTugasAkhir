{
 "cells": [
  {
   "cell_type": "code",
   "execution_count": 117,
   "metadata": {},
   "outputs": [],
   "source": [
    "import os\n",
    "import tensorflow as tf\n",
    "import numpy as np\n",
    "import librosa\n",
    "from sklearn.model_selection import train_test_split\n",
    "from sklearn.preprocessing import StandardScaler\n",
    "import matplotlib.pyplot as plt\n",
    "import noisereduce as nr"
   ]
  },
  {
   "cell_type": "code",
   "execution_count": 118,
   "metadata": {},
   "outputs": [],
   "source": [
    "train_male = \"./Dataset/train/male\"\n",
    "train_female = \"./Dataset/train/female\"\n",
    "\n",
    "val_male = \"./Dataset/val/male\"\n",
    "val_female = \"./Dataset/val/female\"\n"
   ]
  },
  {
   "cell_type": "code",
   "execution_count": 119,
   "metadata": {},
   "outputs": [
    {
     "name": "stdout",
     "output_type": "stream",
     "text": [
      "train_Male = ['1105.wav', '1106.wav', '1107.wav', '1108.wav', '1109.wav', '1110.wav', '1111.wav', '1112.wav', '1113.wav', '1114.wav']\n",
      "train_Female = ['1000.wav', '1001.wav', '1002.wav', '1003.wav', '1004.wav', '1005.wav', '1006.wav', '1007.wav', '1008.wav', '1009.wav']\n",
      "val_Male = ['0.wav', '1.wav', '10.wav', '100.wav', '1000.wav', '1001.wav', '1002.wav', '1003.wav', '1004.wav', '1005.wav']\n",
      "val_Female = ['0.wav', '1.wav', '10.wav', '100.wav', '101.wav', '102.wav', '103.wav', '104.wav', '105.wav', '106.wav']\n"
     ]
    }
   ],
   "source": [
    "male_list = os.listdir(train_male)\n",
    "print(f\"train_Male = {male_list[:10]}\")\n",
    "\n",
    "female_list = os.listdir(train_female)\n",
    "print(f\"train_Female = {female_list[:10]}\")\n",
    "\n",
    "val_male_list = os.listdir(val_male)\n",
    "print(f\"val_Male = {val_male_list[:10]}\")\n",
    "\n",
    "val_female_list = os.listdir(val_female)\n",
    "print(f\"val_Female = {val_female_list[:10]}\")"
   ]
  },
  {
   "cell_type": "code",
   "execution_count": 120,
   "metadata": {},
   "outputs": [
    {
     "name": "stdout",
     "output_type": "stream",
     "text": [
      "total train_male = 2577\n",
      "total train_female = 1618\n",
      "total val_male = 1105\n",
      "total val_female = 693\n"
     ]
    }
   ],
   "source": [
    "print(f\"total train_male = {len(male_list)}\")\n",
    "print(f\"total train_female = {len(female_list)}\")\n",
    "\n",
    "print(f\"total val_male = {len(val_male_list)}\")\n",
    "print(f\"total val_female = {len(val_female_list)}\")"
   ]
  },
  {
   "cell_type": "code",
   "execution_count": 121,
   "metadata": {},
   "outputs": [],
   "source": [
    "def extract_features(file_path):\n",
    "    # Fungsi ekstraksi fitur suara (gunakan sesuai kebutuhan Anda)\n",
    "    # Contoh sederhana menggunakan Librosa\n",
    "    audio_data, sr = librosa.load(file_path, sr=None)\n",
    "    audio_data = nr.reduce_noise(audio_data, sr)\n",
    "    mfccs = librosa.feature.mfcc(y=audio_data, sr=sr, n_mfcc=40)\n",
    "    return np.mean(mfccs.T, axis=0)"
   ]
  },
  {
   "cell_type": "code",
   "execution_count": 122,
   "metadata": {},
   "outputs": [],
   "source": [
    "def load_data(folder_path, label):\n",
    "    data = []\n",
    "    labels = []\n",
    "    for filename in os.listdir(folder_path):\n",
    "        filepath = os.path.join(folder_path, filename)\n",
    "        features = extract_features(filepath)\n",
    "        data.append(features)\n",
    "        labels.append(label)\n",
    "    return np.array(data), np.array(labels)\n"
   ]
  },
  {
   "cell_type": "code",
   "execution_count": 123,
   "metadata": {},
   "outputs": [],
   "source": [
    "X_train_male, y_train_male = load_data(train_male, 1)"
   ]
  },
  {
   "cell_type": "code",
   "execution_count": 124,
   "metadata": {},
   "outputs": [],
   "source": [
    "X_train_female, y_train_female = load_data(train_female, 0)"
   ]
  },
  {
   "cell_type": "code",
   "execution_count": 125,
   "metadata": {},
   "outputs": [],
   "source": [
    "X_val_male, y_val_male = load_data(val_male, 1)"
   ]
  },
  {
   "cell_type": "code",
   "execution_count": 126,
   "metadata": {},
   "outputs": [],
   "source": [
    "X_val_female, y_val_female = load_data(val_female, 0)"
   ]
  },
  {
   "cell_type": "code",
   "execution_count": 127,
   "metadata": {},
   "outputs": [],
   "source": [
    "# def create_model(vector_length=128):\n",
    "#     \"\"\"5 hidden dense layers from 256 units to 64, not the best model.\"\"\"\n",
    "#     model = Sequential()\n",
    "#     model.add(Dense(256, input_shape=(vector_length,)))\n",
    "#     model.add(Dropout(0.3))\n",
    "#     model.add(Dense(256, activation=\"relu\"))\n",
    "#     model.add(Dropout(0.3))\n",
    "#     model.add(Dense(128, activation=\"relu\"))\n",
    "#     model.add(Dropout(0.3))\n",
    "#     model.add(Dense(128, activation=\"relu\"))\n",
    "#     model.add(Dropout(0.3))\n",
    "#     model.add(Dense(64, activation=\"relu\"))\n",
    "#     model.add(Dropout(0.3))\n",
    "#     # one output neuron with sigmoid activation function, 0 means female, 1 means male\n",
    "#     model.add(Dense(1, activation=\"sigmoid\"))\n",
    "#     # using binary crossentropy as it's male/female classification (binary)\n",
    "#     model.compile(loss=\"binary_crossentropy\", metrics=[\"accuracy\"], optimizer=\"adam\")\n",
    "#     # print summary of the model\n",
    "#     model.summary()\n",
    "#     return model"
   ]
  },
  {
   "cell_type": "code",
   "execution_count": 128,
   "metadata": {},
   "outputs": [],
   "source": [
    "# Gabungkan data training dan validasi\n",
    "X_train = np.concatenate((X_train_male, X_train_female), axis=0)\n",
    "y_train = np.concatenate((y_train_male, y_train_female), axis=0)\n",
    "X_val = np.concatenate((X_val_male, X_val_female), axis=0)\n",
    "y_val = np.concatenate((y_val_male, y_val_female), axis=0)"
   ]
  },
  {
   "cell_type": "code",
   "execution_count": 129,
   "metadata": {},
   "outputs": [],
   "source": [
    "# # Normalisasi fitur menggunakan StandardScaler\n",
    "# scaler = StandardScaler()\n",
    "# X_train = scaler.fit_transform(X_train)\n",
    "# X_val = scaler.transform(X_val)"
   ]
  },
  {
   "cell_type": "code",
   "execution_count": 130,
   "metadata": {},
   "outputs": [],
   "source": [
    "# Pisahkan data validasi dari data training\n",
    "X_train, X_test, y_train, y_test = train_test_split(X_train, y_train, test_size=0.2, random_state=42)\n"
   ]
  },
  {
   "cell_type": "code",
   "execution_count": 149,
   "metadata": {},
   "outputs": [],
   "source": [
    "# Model neural network sederhana\n",
    "model = tf.keras.Sequential([\n",
    "    tf.keras.layers.Dense(256, activation='relu', input_shape=(X_train.shape[1],)),\n",
    "    tf.keras.layers.Dropout(0.3),\n",
    "    tf.keras.layers.Dense(256, activation='relu'),\n",
    "    tf.keras.layers.Dropout(0.3),\n",
    "    tf.keras.layers.Dense(128, activation='relu'),\n",
    "    tf.keras.layers.Dropout(0.3),\n",
    "    tf.keras.layers.Dense(128, activation='relu'),\n",
    "    tf.keras.layers.Dropout(0.3),\n",
    "    tf.keras.layers.Dense(64, activation='relu'),\n",
    "    tf.keras.layers.Dropout(0.3),\n",
    "    tf.keras.layers.Dense(1, activation='sigmoid')\n",
    "])"
   ]
  },
  {
   "cell_type": "code",
   "execution_count": 150,
   "metadata": {},
   "outputs": [],
   "source": [
    "# Kompilasi model\n",
    "model.compile(optimizer='adam', loss='binary_crossentropy', metrics=['accuracy'])"
   ]
  },
  {
   "cell_type": "code",
   "execution_count": 151,
   "metadata": {},
   "outputs": [
    {
     "name": "stdout",
     "output_type": "stream",
     "text": [
      "Epoch 1/50\n"
     ]
    },
    {
     "name": "stdout",
     "output_type": "stream",
     "text": [
      "105/105 [==============================] - 2s 5ms/step - loss: 2.4941 - accuracy: 0.5223 - val_loss: 0.6738 - val_accuracy: 0.6335\n",
      "Epoch 2/50\n",
      "105/105 [==============================] - 0s 4ms/step - loss: 0.8671 - accuracy: 0.5483 - val_loss: 0.6782 - val_accuracy: 0.6140\n",
      "Epoch 3/50\n",
      "105/105 [==============================] - 0s 4ms/step - loss: 0.7461 - accuracy: 0.5501 - val_loss: 0.6902 - val_accuracy: 0.6146\n",
      "Epoch 4/50\n",
      "105/105 [==============================] - 0s 4ms/step - loss: 0.7036 - accuracy: 0.5796 - val_loss: 0.6700 - val_accuracy: 0.6190\n",
      "Epoch 5/50\n",
      "105/105 [==============================] - 0s 4ms/step - loss: 0.6800 - accuracy: 0.5995 - val_loss: 0.6311 - val_accuracy: 0.6997\n",
      "Epoch 6/50\n",
      "105/105 [==============================] - 0s 4ms/step - loss: 0.6057 - accuracy: 0.6731 - val_loss: 0.4519 - val_accuracy: 0.8637\n",
      "Epoch 7/50\n",
      "105/105 [==============================] - 0s 4ms/step - loss: 0.4786 - accuracy: 0.7732 - val_loss: 0.3061 - val_accuracy: 0.8910\n",
      "Epoch 8/50\n",
      "105/105 [==============================] - 0s 4ms/step - loss: 0.3923 - accuracy: 0.8349 - val_loss: 0.2958 - val_accuracy: 0.8954\n",
      "Epoch 9/50\n",
      "105/105 [==============================] - 0s 4ms/step - loss: 0.3504 - accuracy: 0.8650 - val_loss: 0.2529 - val_accuracy: 0.9138\n",
      "Epoch 10/50\n",
      "105/105 [==============================] - 0s 4ms/step - loss: 0.3166 - accuracy: 0.8787 - val_loss: 0.2674 - val_accuracy: 0.9127\n",
      "Epoch 11/50\n",
      "105/105 [==============================] - 0s 4ms/step - loss: 0.2958 - accuracy: 0.8948 - val_loss: 0.2244 - val_accuracy: 0.9155\n",
      "Epoch 12/50\n",
      "105/105 [==============================] - 0s 4ms/step - loss: 0.2873 - accuracy: 0.8993 - val_loss: 0.2316 - val_accuracy: 0.9160\n",
      "Epoch 13/50\n",
      "105/105 [==============================] - 0s 4ms/step - loss: 0.2825 - accuracy: 0.9023 - val_loss: 0.2314 - val_accuracy: 0.9182\n",
      "Epoch 14/50\n",
      "105/105 [==============================] - 0s 4ms/step - loss: 0.2771 - accuracy: 0.9076 - val_loss: 0.2781 - val_accuracy: 0.9177\n",
      "Epoch 15/50\n",
      "105/105 [==============================] - 0s 4ms/step - loss: 0.2654 - accuracy: 0.9046 - val_loss: 0.2396 - val_accuracy: 0.9182\n",
      "Epoch 16/50\n",
      "105/105 [==============================] - 0s 4ms/step - loss: 0.2623 - accuracy: 0.9091 - val_loss: 0.2556 - val_accuracy: 0.9205\n",
      "Epoch 17/50\n",
      "105/105 [==============================] - 0s 4ms/step - loss: 0.2614 - accuracy: 0.9112 - val_loss: 0.2243 - val_accuracy: 0.9205\n",
      "Epoch 18/50\n",
      "105/105 [==============================] - 0s 4ms/step - loss: 0.2515 - accuracy: 0.9133 - val_loss: 0.2415 - val_accuracy: 0.9227\n",
      "Epoch 19/50\n",
      "105/105 [==============================] - 0s 4ms/step - loss: 0.2428 - accuracy: 0.9187 - val_loss: 0.2206 - val_accuracy: 0.9216\n",
      "Epoch 20/50\n",
      "105/105 [==============================] - 1s 5ms/step - loss: 0.2411 - accuracy: 0.9169 - val_loss: 0.2391 - val_accuracy: 0.9210\n",
      "Epoch 21/50\n",
      "105/105 [==============================] - 0s 4ms/step - loss: 0.2590 - accuracy: 0.9142 - val_loss: 0.2503 - val_accuracy: 0.9105\n",
      "Epoch 22/50\n",
      "105/105 [==============================] - 0s 4ms/step - loss: 0.2461 - accuracy: 0.9142 - val_loss: 0.2392 - val_accuracy: 0.9155\n",
      "Epoch 23/50\n",
      "105/105 [==============================] - 0s 4ms/step - loss: 0.2417 - accuracy: 0.9213 - val_loss: 0.2164 - val_accuracy: 0.9194\n",
      "Epoch 24/50\n",
      "105/105 [==============================] - 0s 4ms/step - loss: 0.2500 - accuracy: 0.9175 - val_loss: 0.2420 - val_accuracy: 0.9216\n",
      "Epoch 25/50\n",
      "105/105 [==============================] - 0s 4ms/step - loss: 0.2379 - accuracy: 0.9195 - val_loss: 0.2413 - val_accuracy: 0.9227\n",
      "Epoch 26/50\n",
      "105/105 [==============================] - 0s 4ms/step - loss: 0.2464 - accuracy: 0.9178 - val_loss: 0.2200 - val_accuracy: 0.9260\n",
      "Epoch 27/50\n",
      "105/105 [==============================] - 0s 4ms/step - loss: 0.2410 - accuracy: 0.9204 - val_loss: 0.2345 - val_accuracy: 0.9171\n",
      "Epoch 28/50\n",
      "105/105 [==============================] - 0s 4ms/step - loss: 0.2367 - accuracy: 0.9213 - val_loss: 0.2309 - val_accuracy: 0.9255\n",
      "Epoch 29/50\n",
      "105/105 [==============================] - 0s 4ms/step - loss: 0.2301 - accuracy: 0.9252 - val_loss: 0.2375 - val_accuracy: 0.9216\n",
      "Epoch 30/50\n",
      "105/105 [==============================] - 0s 4ms/step - loss: 0.2340 - accuracy: 0.9213 - val_loss: 0.2328 - val_accuracy: 0.9255\n",
      "Epoch 31/50\n",
      "105/105 [==============================] - 0s 4ms/step - loss: 0.2336 - accuracy: 0.9204 - val_loss: 0.2387 - val_accuracy: 0.9210\n",
      "Epoch 32/50\n",
      "105/105 [==============================] - 0s 4ms/step - loss: 0.2223 - accuracy: 0.9210 - val_loss: 0.2172 - val_accuracy: 0.9210\n",
      "Epoch 33/50\n",
      "105/105 [==============================] - 0s 4ms/step - loss: 0.2350 - accuracy: 0.9240 - val_loss: 0.2278 - val_accuracy: 0.9244\n",
      "Epoch 34/50\n",
      "105/105 [==============================] - 0s 5ms/step - loss: 0.2290 - accuracy: 0.9198 - val_loss: 0.2137 - val_accuracy: 0.9199\n",
      "Epoch 35/50\n",
      "105/105 [==============================] - 0s 4ms/step - loss: 0.2210 - accuracy: 0.9270 - val_loss: 0.2234 - val_accuracy: 0.9244\n",
      "Epoch 36/50\n",
      "105/105 [==============================] - 0s 4ms/step - loss: 0.2276 - accuracy: 0.9261 - val_loss: 0.2308 - val_accuracy: 0.9232\n",
      "Epoch 37/50\n",
      "105/105 [==============================] - 0s 4ms/step - loss: 0.2186 - accuracy: 0.9249 - val_loss: 0.2185 - val_accuracy: 0.9199\n",
      "Epoch 38/50\n",
      "105/105 [==============================] - 0s 4ms/step - loss: 0.2276 - accuracy: 0.9234 - val_loss: 0.2161 - val_accuracy: 0.9244\n",
      "Epoch 39/50\n",
      "105/105 [==============================] - 0s 4ms/step - loss: 0.2282 - accuracy: 0.9216 - val_loss: 0.2428 - val_accuracy: 0.9244\n",
      "Epoch 40/50\n",
      "105/105 [==============================] - 0s 4ms/step - loss: 0.2275 - accuracy: 0.9240 - val_loss: 0.2200 - val_accuracy: 0.9232\n",
      "Epoch 41/50\n",
      "105/105 [==============================] - 0s 4ms/step - loss: 0.2253 - accuracy: 0.9273 - val_loss: 0.2177 - val_accuracy: 0.9260\n",
      "Epoch 42/50\n",
      "105/105 [==============================] - 0s 4ms/step - loss: 0.2155 - accuracy: 0.9267 - val_loss: 0.2178 - val_accuracy: 0.9260\n",
      "Epoch 43/50\n",
      "105/105 [==============================] - 0s 4ms/step - loss: 0.2127 - accuracy: 0.9282 - val_loss: 0.2246 - val_accuracy: 0.9194\n",
      "Epoch 44/50\n",
      "105/105 [==============================] - 0s 4ms/step - loss: 0.2146 - accuracy: 0.9282 - val_loss: 0.2157 - val_accuracy: 0.9221\n",
      "Epoch 45/50\n",
      "105/105 [==============================] - 1s 5ms/step - loss: 0.2096 - accuracy: 0.9255 - val_loss: 0.2196 - val_accuracy: 0.9232\n",
      "Epoch 46/50\n",
      "105/105 [==============================] - 0s 4ms/step - loss: 0.2000 - accuracy: 0.9297 - val_loss: 0.2291 - val_accuracy: 0.9182\n",
      "Epoch 47/50\n",
      "105/105 [==============================] - 0s 4ms/step - loss: 0.2161 - accuracy: 0.9270 - val_loss: 0.2228 - val_accuracy: 0.9227\n",
      "Epoch 48/50\n",
      "105/105 [==============================] - 0s 4ms/step - loss: 0.2129 - accuracy: 0.9312 - val_loss: 0.2147 - val_accuracy: 0.9227\n",
      "Epoch 49/50\n",
      "105/105 [==============================] - 0s 4ms/step - loss: 0.2113 - accuracy: 0.9276 - val_loss: 0.2411 - val_accuracy: 0.9149\n",
      "Epoch 50/50\n",
      "105/105 [==============================] - 0s 4ms/step - loss: 0.2014 - accuracy: 0.9353 - val_loss: 0.2203 - val_accuracy: 0.9216\n"
     ]
    }
   ],
   "source": [
    "# Pelatihan model\n",
    "# early_stopping = tf.keras.callbacks.EarlyStopping(mode=\"min\", patience=5, restore_best_weights=True)\n",
    "history = model.fit(X_train, y_train, epochs=50, batch_size=32, validation_data=(X_val, y_val))"
   ]
  },
  {
   "cell_type": "code",
   "execution_count": 152,
   "metadata": {},
   "outputs": [
    {
     "name": "stdout",
     "output_type": "stream",
     "text": [
      "27/27 [==============================] - 0s 1ms/step - loss: 0.2052 - accuracy: 0.9261\n",
      "Accuracy on test set: 0.9261025190353394\n"
     ]
    }
   ],
   "source": [
    "# Evaluasi model pada data test\n",
    "accuracy = model.evaluate(X_test, y_test)[1]\n",
    "print(f\"Accuracy on test set: {accuracy}\")"
   ]
  },
  {
   "cell_type": "code",
   "execution_count": 153,
   "metadata": {},
   "outputs": [
    {
     "name": "stdout",
     "output_type": "stream",
     "text": [
      "Model: \"sequential_6\"\n",
      "_________________________________________________________________\n",
      " Layer (type)                Output Shape              Param #   \n",
      "=================================================================\n",
      " dense_31 (Dense)            (None, 256)               10496     \n",
      "                                                                 \n",
      " dropout_25 (Dropout)        (None, 256)               0         \n",
      "                                                                 \n",
      " dense_32 (Dense)            (None, 256)               65792     \n",
      "                                                                 \n",
      " dropout_26 (Dropout)        (None, 256)               0         \n",
      "                                                                 \n",
      " dense_33 (Dense)            (None, 128)               32896     \n",
      "                                                                 \n",
      " dropout_27 (Dropout)        (None, 128)               0         \n",
      "                                                                 \n",
      " dense_34 (Dense)            (None, 128)               16512     \n",
      "                                                                 \n",
      " dropout_28 (Dropout)        (None, 128)               0         \n",
      "                                                                 \n",
      " dense_35 (Dense)            (None, 64)                8256      \n",
      "                                                                 \n",
      " dropout_29 (Dropout)        (None, 64)                0         \n",
      "                                                                 \n",
      " dense_36 (Dense)            (None, 1)                 65        \n",
      "                                                                 \n",
      "=================================================================\n",
      "Total params: 134,017\n",
      "Trainable params: 134,017\n",
      "Non-trainable params: 0\n",
      "_________________________________________________________________\n"
     ]
    }
   ],
   "source": [
    "model.summary()"
   ]
  },
  {
   "cell_type": "code",
   "execution_count": 154,
   "metadata": {},
   "outputs": [
    {
     "data": {
      "image/png": "[encoded data removed]",
      "text/plain": [
       "<Figure size 864x432 with 2 Axes>"
      ]
     },
     "metadata": {},
     "output_type": "display_data"
    }
   ],
   "source": [
    "# Plot akurasi\n",
    "fig = plt.figure(figsize=(12, 6))\n",
    "fig.patch.set_facecolor('white')\n",
    "plt.subplot(1, 2, 1)\n",
    "plt.plot(history.history['accuracy'], label='Training Accuracy')\n",
    "plt.plot(history.history['val_accuracy'], label='Validation Accuracy')\n",
    "plt.title('Training and Validation Accuracy')\n",
    "plt.xlabel('Epoch')\n",
    "plt.ylabel('Accuracy')\n",
    "plt.legend()\n",
    "\n",
    "# Plot loss\n",
    "plt.subplot(1, 2, 2)\n",
    "plt.plot(history.history['loss'], label='Training Loss')\n",
    "plt.plot(history.history['val_loss'], label='Validation Loss')\n",
    "plt.title('Training and Validation Loss')\n",
    "plt.xlabel('Epoch')\n",
    "plt.ylabel('Loss')\n",
    "plt.legend()\n",
    "\n",
    "plt.tight_layout()\n",
    "plt.show()"
   ]
  },
  {
   "cell_type": "code",
   "execution_count": 155,
   "metadata": {},
   "outputs": [],
   "source": [
    "model.save(\"model.h5\")"
   ]
  },
  {
   "cell_type": "code",
   "execution_count": 156,
   "metadata": {},
   "outputs": [
    {
     "name": "stdout",
     "output_type": "stream",
     "text": [
      "1/1 [==============================] - 0s 67ms/step\n",
      "1/1 [==============================] - 0s 17ms/step\n",
      "1/1 [==============================] - 0s 19ms/step\n",
      "1/1 [==============================] - 0s 18ms/step\n",
      "1/1 [==============================] - 0s 20ms/step\n",
      "1/1 [==============================] - 0s 19ms/step\n",
      "1/1 [==============================] - 0s 18ms/step\n",
      "1/1 [==============================] - 0s 18ms/step\n",
      "1/1 [==============================] - 0s 19ms/step\n",
      "1/1 [==============================] - 0s 18ms/step\n",
      "1/1 [==============================] - 0s 19ms/step\n",
      "1/1 [==============================] - 0s 22ms/step\n",
      "1/1 [==============================] - 0s 20ms/step\n",
      "1/1 [==============================] - 0s 18ms/step\n",
      "1/1 [==============================] - 0s 19ms/step\n",
      "1/1 [==============================] - 0s 19ms/step\n",
      "1/1 [==============================] - 0s 19ms/step\n",
      "1/1 [==============================] - 0s 19ms/step\n",
      "1/1 [==============================] - 0s 18ms/step\n",
      "1/1 [==============================] - 0s 20ms/step\n",
      "1/1 [==============================] - 0s 21ms/step\n",
      "1/1 [==============================] - 0s 18ms/step\n",
      "1/1 [==============================] - 0s 23ms/step\n",
      "1/1 [==============================] - 0s 18ms/step\n",
      "1/1 [==============================] - 0s 22ms/step\n",
      "1/1 [==============================] - 0s 20ms/step\n",
      "1/1 [==============================] - 0s 21ms/step\n",
      "1/1 [==============================] - 0s 20ms/step\n",
      "1/1 [==============================] - 0s 19ms/step\n",
      "1/1 [==============================] - 0s 19ms/step\n",
      "1/1 [==============================] - 0s 19ms/step\n",
      "1/1 [==============================] - 0s 23ms/step\n",
      "1/1 [==============================] - 0s 18ms/step\n",
      "1/1 [==============================] - 0s 22ms/step\n",
      "1/1 [==============================] - 0s 17ms/step\n",
      "1/1 [==============================] - 0s 21ms/step\n",
      "1/1 [==============================] - 0s 20ms/step\n",
      "Hasil prediksi telah disimpan ke ./hasil_prediksi/kha_predict.txt\n"
     ]
    }
   ],
   "source": [
    "folder_path = \"../Dataset/02.Kha\\'/\"\n",
    "model = tf.keras.models.load_model('model.h5')\n",
    "\n",
    "# Buat file teks untuk menyimpan hasil prediksi\n",
    "output_file_path = \"./hasil_prediksi/kha_predict.txt\"\n",
    "\n",
    "# Melakukan prediksi untuk setiap file dalam folder\n",
    "with open(output_file_path, 'w') as output_file:\n",
    "    for filename in os.listdir(folder_path):\n",
    "        # Memastikan file adalah file .wav\n",
    "        if filename.endswith(\".wav\"):\n",
    "            file_path = os.path.join(folder_path, filename)\n",
    "            features = extract_features(file_path).reshape(1, -1)\n",
    "            \n",
    "            # Membuat prediksi\n",
    "            gender_prediction = model.predict(features)\n",
    "            \n",
    "            # Menghitung probabilitas untuk male dan female\n",
    "            male_prob = gender_prediction[0][0]\n",
    "            female_prob = 1 - male_prob\n",
    "            gender = \"male\" if male_prob > female_prob else \"female\"\n",
    "            \n",
    "            # Menampilkan hasil\n",
    "            result_string = f\"File: {filename}\\nResult: {gender}\\nProbabilities::: Male: {male_prob*100:.2f}%    Female: {female_prob*100:.2f}%\\n\\n\"\n",
    "            \n",
    "            # Menuliskan hasil ke file teks\n",
    "            output_file.write(result_string)\n",
    "\n",
    "print(f\"Hasil prediksi telah disimpan ke {output_file_path}\")\n"
   ]
  },
  {
   "cell_type": "code",
   "execution_count": null,
   "metadata": {},
   "outputs": [],
   "source": []
  }
 ],
 "metadata": {
  "kernelspec": {
   "display_name": "Python 3",
   "language": "python",
   "name": "python3"
  },
  "language_info": {
   "codemirror_mode": {
    "name": "ipython",
    "version": 3
   },
   "file_extension": ".py",
   "mimetype": "text/x-python",
   "name": "python",
   "nbconvert_exporter": "python",
   "pygments_lexer": "ipython3",
   "version": "3.10.4"
  }
 },
 "nbformat": 4,
 "nbformat_minor": 2
}
