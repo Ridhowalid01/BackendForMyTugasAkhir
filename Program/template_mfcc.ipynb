{
 "cells": [
  {
   "cell_type": "code",
   "execution_count": 11,
   "metadata": {},
   "outputs": [
    {
     "name": "stdout",
     "output_type": "stream",
     "text": [
      "Distance = 4.084047188382649\n",
      "Distance = 9.393921114741174\n",
      "Distance = 13.971579941674237\n",
      "Distance = 15.498031054562322\n",
      "Distance = 24.55003572378237\n",
      "Distance = 31.091219822604394\n"
     ]
    }
   ],
   "source": [
    "import librosa\n",
    "import numpy as np\n",
    "import noisereduce as nr\n",
    "from fastdtw import fastdtw\n",
    "from scipy.spatial.distance import cosine\n",
    "from scipy.signal import butter, lfilter\n",
    "\n",
    "def remove_silence(y):\n",
    "     # Memisahkan audio menjadi bagian-bagian berdasarkan energi\n",
    "    parts = librosa.effects.split(y, top_db=25, frame_length=1024, hop_length=512)\n",
    "\n",
    "    # Menggabungkan bagian-bagian yang tidak diam\n",
    "    y_non_silent = []\n",
    "    for start, end in parts:\n",
    "        y_non_silent.extend(y[start:end])\n",
    "\n",
    "    # Mengubah list menjadi array numpy\n",
    "    y = np.array(y_non_silent)\n",
    "    return y\n",
    "\n",
    "def preprocessing(audio):\n",
    "    y , sr = librosa.load(audio, sr=44100)\n",
    "    # y = librosa.util.normalize(y)\n",
    "    y = y/np.max(np.abs(y))\n",
    "    y = remove_silence(y)\n",
    "    y = nr.reduce_noise(y, sr, prop_decrease=0.5)\n",
    "    # y = bandpass_filter(y, lowcut=100.0, highcut=3000.0, fs=sr, order=5)\n",
    "    # y = shift_pitch_audio(y, sr)\n",
    "\n",
    "    return y,sr\n",
    "\n",
    "def extraction(audio):\n",
    "    y , sr = preprocessing(audio)\n",
    "    y = librosa.effects.preemphasis(y)\n",
    "    mfccs = librosa.feature.mfcc(y=y,\n",
    "                                 sr=sr,\n",
    "                                 n_mfcc=13,\n",
    "                                 window='hamming',\n",
    "                                 win_length=1024,\n",
    "                                 htk = True,\n",
    "                                 hop_length=512,\n",
    "                                 n_fft=1024,\n",
    "                                 norm='ortho',\n",
    "                                 dct_type=2,\n",
    "                                #  fmax=8000,\n",
    "                                 n_mels=20)\n",
    "    # mfccs = mfccs[1:]\n",
    "    # return librosa.util.normalize(mfccs.T)\n",
    "    return mfccs.T\n",
    "\n",
    "def average_mfccs(audio_path1, audio_path2, audio_path3):\n",
    "    # Ekstraksi MFCC dari kedua file audio\n",
    "    mfccs1 = extraction(audio_path1)\n",
    "    mfccs2 = extraction(audio_path2)\n",
    "    mfccs3 = extraction(audio_path3)\n",
    "    # mfccs4 = extraction(audio_path4)\n",
    "    # mfccs5 = extraction(audio_path5)\n",
    "    \n",
    "     # Temukan dimensi terbesar di antara semua MFCC\n",
    "    max_shape = max(mfccs1.shape, mfccs2.shape, mfccs3.shape)\n",
    "    \n",
    "    # Padding MFCC yang lebih pendek\n",
    "    mfccs1 = np.pad(mfccs1, ((0, max_shape[0] - mfccs1.shape[0]), (0, max_shape[1] - mfccs1.shape[1])), mode='constant')\n",
    "    mfccs2 = np.pad(mfccs2, ((0, max_shape[0] - mfccs2.shape[0]), (0, max_shape[1] - mfccs2.shape[1])), mode='constant')\n",
    "    mfccs3 = np.pad(mfccs3, ((0, max_shape[0] - mfccs3.shape[0]), (0, max_shape[1] - mfccs3.shape[1])), mode='constant')\n",
    "    # mfccs4 = np.pad(mfccs4, ((0, max_shape[0] - mfccs4.shape[0]), (0, max_shape[1] - mfccs4.shape[1])), mode='constant')\n",
    "    # mfccs5 = np.pad(mfccs5, ((0, max_shape[0] - mfccs5.shape[0]), (0, max_shape[1] - mfccs5.shape[1])), mode='constant')\n",
    "\n",
    "    # Hitung rata-rata MFCC satu per satu\n",
    "    averaged_mfccs = (mfccs1 + mfccs2 + mfccs3) / 3\n",
    "    \n",
    "    return averaged_mfccs\n",
    "\n",
    "audio_path1 = \"../Dataset/01.Ha\\'/Ha\\'_M1_11.wav\"\n",
    "audio_path2 = \"../Dataset/01.Ha\\'/Ha\\'_M1_12.wav\"\n",
    "audio_path3 = '../Dataset/09.Qaf/Qaf_M1_11.wav'\n",
    "audio_path4 = '../Dataset/09.Qaf/Qaf_M2_11.wav'\n",
    "audio_path5 = \"../Dataset/01.Ha\\'/Ha\\'_M2_11.wav\"\n",
    "audio_path6 = \"../Dataset/Dataset_male/Ha'_M1_1.wav\"\n",
    "audio_path7 = \"../Dataset/Dataset_male/Ha'_M2_1.wav\"\n",
    "\n",
    "\n",
    "# average_mfcc = average_mfccs(audio_path1, audio_path2, audio_path5)\n",
    "# print(\"Average MFCC shape:\", average_mfcc.shape)  # Akan mencetak bentuk rata-rata MFCC\n",
    "\n",
    "mfccs1 = extraction(audio_path1)\n",
    "mfccs2 = extraction(audio_path2)\n",
    "mfccs3 = extraction(audio_path3)\n",
    "mfccs4 = extraction(audio_path4)\n",
    "mfccs5 = extraction(audio_path5)\n",
    "mfccs6 = extraction(audio_path6)\n",
    "mfccs7 = extraction(audio_path7)\n",
    "\n",
    "distance, path = fastdtw(mfccs1, mfccs2, dist=cosine)\n",
    "distance1, path1 = fastdtw(mfccs1, mfccs5, dist=cosine)\n",
    "distance2, path2 = fastdtw(mfccs1, mfccs3, dist=cosine)\n",
    "distance3, path3 = fastdtw(mfccs1, mfccs4, dist=cosine)\n",
    "distance4, path4 = fastdtw(mfccs1, mfccs6, dist=cosine)\n",
    "distance5, path5 = fastdtw(mfccs1, mfccs7, dist=cosine)\n",
    "\n",
    "print(f'Distance = {distance}')\n",
    "print(f'Distance = {distance1}')\n",
    "print(f'Distance = {distance2}')\n",
    "print(f'Distance = {distance3}')\n",
    "print(f'Distance = {distance4}')\n",
    "print(f'Distance = {distance5}')\n",
    "\n",
    "# mfccs = extraction(audio_path1)\n",
    "\n",
    "# average_distance, _ = fastdtw(mfccs, average_mfcc, dist=cosine)\n",
    "\n",
    "# print(f'average_Distance = {average_distance}')\n"
   ]
  },
  {
   "cell_type": "code",
   "execution_count": 12,
   "metadata": {},
   "outputs": [
    {
     "data": {
      "text/plain": [
       "(762, 13)"
      ]
     },
     "execution_count": 12,
     "metadata": {},
     "output_type": "execute_result"
    }
   ],
   "source": [
    "mfccs2.shape"
   ]
  },
  {
   "cell_type": "code",
   "execution_count": 14,
   "metadata": {},
   "outputs": [
    {
     "data": {
      "text/plain": [
       "array([-2.2867244e+02,  1.7586285e+01,  8.2235518e+00, -7.5950789e-01,\n",
       "       -2.7364810e+00,  2.2529781e-02,  3.3352790e+00,  3.9967532e+00,\n",
       "        2.6269846e+00,  1.3912354e+00,  6.9581306e-01,  3.6940060e+00,\n",
       "        6.0283642e+00], dtype=float32)"
      ]
     },
     "execution_count": 14,
     "metadata": {},
     "output_type": "execute_result"
    }
   ],
   "source": [
    "mfccs2[0,:]"
   ]
  },
  {
   "cell_type": "code",
   "execution_count": 19,
   "metadata": {},
   "outputs": [
    {
     "data": {
      "image/png": "[encoded data removed]",
      "text/plain": [
       "<Figure size 720x360 with 2 Axes>"
      ]
     },
     "metadata": {},
     "output_type": "display_data"
    }
   ],
   "source": [
    "import matplotlib.pyplot as plt\n",
    "\n",
    "fig = plt.figure(figsize = (10,5))\n",
    "fig.patch.set_facecolor('white')\n",
    "librosa.display.specshow(average_mfcc.T, x_axis=\"time\", cmap=\"viridis\")\n",
    "plt.colorbar()\n",
    "plt.title(\"MFCCs\")\n",
    "plt.show()"
   ]
  },
  {
   "cell_type": "code",
   "execution_count": 2,
   "metadata": {},
   "outputs": [
    {
     "data": {
      "text/plain": [
       "(870, 13)"
      ]
     },
     "execution_count": 2,
     "metadata": {},
     "output_type": "execute_result"
    }
   ],
   "source": [
    "mfccs1.shape"
   ]
  },
  {
   "cell_type": "code",
   "execution_count": 45,
   "metadata": {},
   "outputs": [],
   "source": [
    "max_shape = max(mfccs1.shape, mfccs2.shape, mfccs3.shape, mfccs4.shape, mfccs5.shape)"
   ]
  },
  {
   "cell_type": "code",
   "execution_count": 46,
   "metadata": {},
   "outputs": [
    {
     "data": {
      "text/plain": [
       "(2169, 13)"
      ]
     },
     "execution_count": 46,
     "metadata": {},
     "output_type": "execute_result"
    }
   ],
   "source": [
    "max_shape"
   ]
  },
  {
   "cell_type": "code",
   "execution_count": 47,
   "metadata": {},
   "outputs": [],
   "source": [
    "mfccs1 = np.pad(mfccs1, ((0, max_shape[0] - mfccs1.shape[0]), (0, max_shape[1] - mfccs1.shape[1])), mode='constant')"
   ]
  },
  {
   "cell_type": "code",
   "execution_count": 3,
   "metadata": {},
   "outputs": [
    {
     "data": {
      "text/plain": [
       "(870, 13)"
      ]
     },
     "execution_count": 3,
     "metadata": {},
     "output_type": "execute_result"
    }
   ],
   "source": [
    "mfccs1.shape"
   ]
  },
  {
   "cell_type": "code",
   "execution_count": 10,
   "metadata": {},
   "outputs": [
    {
     "data": {
      "image/png": "[encoded data removed]",
      "text/plain": [
       "<Figure size 720x360 with 2 Axes>"
      ]
     },
     "metadata": {},
     "output_type": "display_data"
    }
   ],
   "source": [
    "import matplotlib.pyplot as plt\n",
    "\n",
    "fig = plt.figure(figsize = (10,5))\n",
    "fig.patch.set_facecolor('white')\n",
    "librosa.display.specshow(mfccs1.T, x_axis=\"time\", cmap=\"viridis\")\n",
    "plt.colorbar()\n",
    "plt.title(\"MFCCs\")\n",
    "plt.show()"
   ]
  },
  {
   "cell_type": "code",
   "execution_count": 7,
   "metadata": {},
   "outputs": [
    {
     "name": "stdout",
     "output_type": "stream",
     "text": [
      "total file mfcc 12\n",
      "total file padded 12\n",
      "Average MFCC shape: (1423, 13)\n",
      "True\n"
     ]
    }
   ],
   "source": [
    "# pake ini\n",
    "\n",
    "import librosa\n",
    "import numpy as np\n",
    "import noisereduce as nr\n",
    "from fastdtw import fastdtw\n",
    "from scipy.spatial.distance import cosine\n",
    "import os\n",
    "import csv\n",
    "\n",
    "\n",
    "def preprocessing(audio):\n",
    "    y , sr = librosa.load(audio, sr=44100)\n",
    "    # y = y / np.max(np.abs(y))\n",
    "    y, _ = librosa.effects.trim(y, top_db=20)\n",
    "    # y = librosa.util.fix_length(y, size=600000, mode = 'constant')\n",
    "    y = nr.reduce_noise(y, sr)\n",
    "    return y, sr\n",
    "\n",
    "def extraction(audio):\n",
    "    y , sr = preprocessing(audio)\n",
    "    y = librosa.effects.preemphasis(y)\n",
    "    mfccs = librosa.feature.mfcc(y=y,\n",
    "                                 sr=sr,\n",
    "                                 n_mfcc=13,\n",
    "                                 window='hamming',\n",
    "                                 win_length=1024,\n",
    "                                 htk=False,\n",
    "                                 hop_length=512,\n",
    "                                 n_fft=1024,\n",
    "                                 norm='ortho',\n",
    "                                 dct_type=2,\n",
    "                                 n_mels=20)\n",
    "    mfccs = librosa.util.normalize(mfccs.T)\n",
    "    # mfccs = np.mean(mfccs, axis=1)  # Menggunakan axis=1 untuk merata-ratakan per baris, sehingga hasil tetap berupa vektor satu dimensi\n",
    "    # mfccs = np.expand_dims(mfccs, axis=1)\n",
    "    return mfccs\n",
    "\n",
    "def average_mfccs_from_folder(folder_path):\n",
    "    # Inisialisasi list untuk menyimpan MFCC dari setiap file audio\n",
    "    all_mfccs = []\n",
    "    \n",
    "    # Iterasi melalui setiap file dalam folder\n",
    "    for file in os.listdir(folder_path):\n",
    "        if file.endswith('.wav'):  # Pastikan hanya memproses file audio\n",
    "            audio_path = os.path.join(folder_path, file)\n",
    "            mfccs = extraction(audio_path)\n",
    "            all_mfccs.append(mfccs)\n",
    "    \n",
    "    # Temukan dimensi terbesar di antara semua MFCC\n",
    "    max_shape = max([mfcc.shape for mfcc in all_mfccs])\n",
    "    \n",
    "    # Padding MFCC yang lebih pendek diisi nol hingga max\n",
    "    padded_mfccs = []\n",
    "    for mfcc in all_mfccs:\n",
    "        padded_mfcc = np.pad(mfcc, ((0, max_shape[0] - mfcc.shape[0]), (0, max_shape[1] - mfcc.shape[1])), mode='constant')\n",
    "        padded_mfccs.append(padded_mfcc)\n",
    "        \n",
    "    # # Menyimpan setiap padded MFCC ke dalam file CSV\n",
    "    # for i, padded_mfcc in enumerate(padded_mfccs):\n",
    "    #     output_path = f\"padded_mfcc_{i+1}.csv\"\n",
    "    #     with open(output_path, 'w', newline='') as csvfile:\n",
    "    #         writer = csv.writer(csvfile)\n",
    "    #         writer.writerows(padded_mfcc)\n",
    "\n",
    "    #     print(f\"File CSV untuk padded MFCC {i+1} telah disimpan: {output_path}\")\n",
    "    \n",
    "    # Hitung rata-rata MFCC satu per satu\n",
    "    averaged_mfccs = np.mean(padded_mfccs, axis=0)\n",
    "    print(f'total file mfcc {len(all_mfccs)}')\n",
    "    print(f'total file padded {len(padded_mfccs)}')\n",
    "    # print(f'padded mfcss shape {padded_mfccs.shape}')\n",
    "    return averaged_mfccs\n",
    "\n",
    "folder_path = \"../Dataset/04.Dhad\"\n",
    "average_mfcc = average_mfccs_from_folder(folder_path)\n",
    "print(\"Average MFCC shape:\", average_mfcc.shape)\n",
    "\n",
    "output_path = \"../hasil_template_mfcc/new_template_dhad.csv\"\n",
    "np.savetxt(output_path, average_mfcc, delimiter=',')\n",
    "\n",
    "template_mfcc = np.loadtxt(output_path, delimiter=',')\n",
    "\n",
    "equal = np.allclose(average_mfcc, template_mfcc)\n",
    "print(equal)"
   ]
  },
  {
   "cell_type": "code",
   "execution_count": 14,
   "metadata": {},
   "outputs": [
    {
     "data": {
      "text/plain": [
       "array([[-1.0000000e+00, -7.4251890e-03,  1.1935681e-02, ...,\n",
       "         4.7829240e-03,  1.2297417e-03,  3.1654323e-03],\n",
       "       [-1.0000000e+00, -3.9533139e-03,  4.0013276e-02, ...,\n",
       "         1.4294460e-02,  8.5687321e-03,  1.2371174e-02],\n",
       "       [-1.0000000e+00, -2.3633793e-03,  4.9327966e-02, ...,\n",
       "         1.5192003e-02,  1.2545937e-02,  1.6020516e-02],\n",
       "       ...,\n",
       "       [-8.3333336e-02,  0.0000000e+00,  0.0000000e+00, ...,\n",
       "         0.0000000e+00,  0.0000000e+00,  0.0000000e+00],\n",
       "       [-8.3333336e-02,  0.0000000e+00,  0.0000000e+00, ...,\n",
       "         0.0000000e+00,  0.0000000e+00,  0.0000000e+00],\n",
       "       [-8.3333336e-02, -1.6259085e-04,  1.6108515e-04, ...,\n",
       "         1.1532423e-04, -1.0592082e-04,  9.5863717e-05]], dtype=float32)"
      ]
     },
     "execution_count": 14,
     "metadata": {},
     "output_type": "execute_result"
    }
   ],
   "source": [
    "average_mfcc"
   ]
  },
  {
   "cell_type": "code",
   "execution_count": 18,
   "metadata": {},
   "outputs": [
    {
     "name": "stdout",
     "output_type": "stream",
     "text": [
      "(2631, 13)\n"
     ]
    }
   ],
   "source": [
    "template_mfcc = np.loadtxt(\"../hasil_template_mfcc/template_kha.csv\", delimiter=',')\n",
    "print(template_mfcc.shape)"
   ]
  },
  {
   "cell_type": "code",
   "execution_count": 19,
   "metadata": {},
   "outputs": [
    {
     "data": {
      "text/plain": [
       "array([[-1.00000000e+00, -7.42518902e-03,  1.19356811e-02, ...,\n",
       "         4.78292396e-03,  1.22974173e-03,  3.16543225e-03],\n",
       "       [-1.00000000e+00, -3.95331392e-03,  4.00132760e-02, ...,\n",
       "         1.42944604e-02,  8.56873207e-03,  1.23711741e-02],\n",
       "       [-1.00000000e+00, -2.36337935e-03,  4.93279658e-02, ...,\n",
       "         1.51920030e-02,  1.25459367e-02,  1.60205159e-02],\n",
       "       ...,\n",
       "       [-8.33333358e-02,  0.00000000e+00,  0.00000000e+00, ...,\n",
       "         0.00000000e+00,  0.00000000e+00,  0.00000000e+00],\n",
       "       [-8.33333358e-02,  0.00000000e+00,  0.00000000e+00, ...,\n",
       "         0.00000000e+00,  0.00000000e+00,  0.00000000e+00],\n",
       "       [-8.33333358e-02, -1.62590848e-04,  1.61085147e-04, ...,\n",
       "         1.15324226e-04, -1.05920823e-04,  9.58637174e-05]])"
      ]
     },
     "execution_count": 19,
     "metadata": {},
     "output_type": "execute_result"
    }
   ],
   "source": [
    "template_mfcc"
   ]
  },
  {
   "cell_type": "code",
   "execution_count": 20,
   "metadata": {},
   "outputs": [
    {
     "name": "stdout",
     "output_type": "stream",
     "text": [
      "[[ True  True  True ...  True  True  True]\n",
      " [ True  True  True ...  True  True  True]\n",
      " [ True  True  True ...  True  True  True]\n",
      " ...\n",
      " [ True  True  True ...  True  True  True]\n",
      " [ True  True  True ...  True  True  True]\n",
      " [ True  True  True ...  True  True  True]]\n"
     ]
    }
   ],
   "source": [
    "equal = average_mfcc == template_mfcc\n",
    "print(equal)"
   ]
  },
  {
   "cell_type": "code",
   "execution_count": 22,
   "metadata": {},
   "outputs": [
    {
     "data": {
      "text/plain": [
       "True"
      ]
     },
     "execution_count": 22,
     "metadata": {},
     "output_type": "execute_result"
    }
   ],
   "source": [
    "np.allclose(average_mfcc, template_mfcc)"
   ]
  },
  {
   "cell_type": "code",
   "execution_count": 67,
   "metadata": {},
   "outputs": [],
   "source": [
    "audio_path1 = \"../Dataset/01.Ha\\'/Ha\\'_M1_11.wav\"\n",
    "audio_path2 = \"../Dataset/01.Ha\\'/Ha\\'_M1_12.wav\"\n",
    "audio_path3 = '../Dataset/09.Qaf/Qaf_M1_11.wav'\n",
    "audio_path4 = '../Dataset/09.Qaf/Qaf_M2_11.wav'\n",
    "audio_path5 = \"../Dataset/01.Ha\\'/Ha\\'_M2_11.wav\""
   ]
  },
  {
   "cell_type": "code",
   "execution_count": 73,
   "metadata": {},
   "outputs": [
    {
     "name": "stdout",
     "output_type": "stream",
     "text": [
      "average_Distance = 32.09397608669025\n"
     ]
    }
   ],
   "source": [
    "mfccs = extraction(audio_path1)\n",
    "\n",
    "average_distance, _ = fastdtw(mfccs, average_mfcc, dist=cosine)\n",
    "\n",
    "print(f'average_Distance = {average_distance}')"
   ]
  },
  {
   "cell_type": "code",
   "execution_count": 26,
   "metadata": {},
   "outputs": [
    {
     "name": "stdout",
     "output_type": "stream",
     "text": [
      "length_max = 718848.0\n",
      "max duration = 16.300408163265306\n",
      "total file mfcc 12\n",
      "total file padded 12\n",
      "Average MFCC shape: (1172, 13)\n",
      "True\n"
     ]
    }
   ],
   "source": [
    "# bukan ini\n",
    "\n",
    "import librosa\n",
    "import numpy as np\n",
    "import noisereduce as nr\n",
    "from fastdtw import fastdtw\n",
    "from scipy.spatial.distance import cosine\n",
    "import os\n",
    "\n",
    "def preprocessing(audio, max_duration):\n",
    "    y , sr = librosa.load(audio, sr=44100)\n",
    "    y, _ = librosa.effects.trim(y, top_db=20)\n",
    "\n",
    "    # max_length = int (max_duration * sr)\n",
    "    # y = librosa.util.fix_length(y, size=600000, mode = 'constant')\n",
    "    y = nr.reduce_noise(y, sr)\n",
    "    return y, sr\n",
    "\n",
    "def extraction(audio, max_duration):\n",
    "    y , sr = preprocessing(audio, max_duration)\n",
    "    y = librosa.effects.preemphasis(y)\n",
    "    mfccs = librosa.feature.mfcc(y=y,\n",
    "                                 sr=sr,\n",
    "                                 n_mfcc=13,\n",
    "                                 window='hamming',\n",
    "                                 win_length=1024,\n",
    "                                 htk=False,\n",
    "                                 hop_length=512,\n",
    "                                 n_fft=1024,\n",
    "                                 norm='ortho',\n",
    "                                 dct_type=2,\n",
    "                                 n_mels=20)\n",
    "    mfccs = librosa.util.normalize(mfccs)\n",
    "    # mfccs = np.mean(mfccs, axis=1)  # Menggunakan axis=1 untuk merata-ratakan per baris, sehingga hasil tetap berupa vektor satu dimensi\n",
    "    # mfccs = np.expand_dims(mfccs, axis=1)\n",
    "    return mfccs.T\n",
    "\n",
    "def average_mfccs_from_folder(folder_path, max_duration):\n",
    "    # Inisialisasi list untuk menyimpan MFCC dari setiap file audio\n",
    "    all_mfccs = []\n",
    "\n",
    "    # Iterasi melalui setiap file dalam folder\n",
    "    for file in os.listdir(folder_path):\n",
    "        if file.endswith('.wav'):  # Pastikan hanya memproses file audio\n",
    "            audio_path = os.path.join(folder_path, file)\n",
    "            mfccs = extraction(audio_path, max_duration)\n",
    "            all_mfccs.append(mfccs)\n",
    "    \n",
    "    # Temukan dimensi terbesar di antara semua MFCC\n",
    "    max_shape = max([mfcc.shape for mfcc in all_mfccs])\n",
    "    \n",
    "    # Padding MFCC yang lebih pendek\n",
    "    padded_mfccs = []\n",
    "    for mfcc in all_mfccs:\n",
    "        padded_mfcc = np.pad(mfcc, ((0, max_shape[0] - mfcc.shape[0]), (0, max_shape[1] - mfcc.shape[1])), mode='constant')\n",
    "        padded_mfccs.append(padded_mfcc)\n",
    "        \n",
    "    \n",
    "    # Hitung rata-rata MFCC satu per satu\n",
    "    averaged_mfccs = np.mean(padded_mfccs, axis=0)\n",
    "    # averaged_mfccs = np.mean(all_mfccs, axis=0)\n",
    "    print(f'total file mfcc {len(all_mfccs)}')\n",
    "    print(f'total file padded {len(padded_mfccs)}')\n",
    "    # print(f'padded mfcss shape {padded_mfccs.shape}')\n",
    "    return averaged_mfccs\n",
    "\n",
    "\n",
    "def get_max_duration(folder_path):\n",
    "    files = [f for f in os.listdir(folder_path) if f.endswith('.wav')]\n",
    "\n",
    "    max_duration = 0\n",
    "\n",
    "    for file in files:\n",
    "        audio = os.path.join(folder_path, file)\n",
    "        y , sr = librosa.load(audio, sr=44100)\n",
    "        y, _ = librosa.effects.trim(y, top_db=20)\n",
    "        duration = librosa.get_duration(y=y, sr=sr, n_fft=1024, hop_length=512)\n",
    "        if (duration > max_duration):\n",
    "            max_duration = duration\n",
    "    print(f\"length_max = {max_duration*sr}\")\n",
    "    return max_duration\n",
    "\n",
    "folder_path = \"../Dataset/09.Qaf\"\n",
    "\n",
    "max_duration = get_max_duration(folder_path)\n",
    "print(f\"max duration = {max_duration}\")\n",
    "\n",
    "\n",
    "average_mfcc = average_mfccs_from_folder(folder_path, max_duration)\n",
    "print(\"Average MFCC shape:\", average_mfcc.shape)\n",
    "\n",
    "output_path = \"../hasil_template_mfcc/template_qaf2.csv\"\n",
    "np.savetxt(output_path, average_mfcc, delimiter=',')\n",
    "\n",
    "template_mfcc = np.loadtxt(output_path, delimiter=',')\n",
    "\n",
    "equal = np.allclose(average_mfcc, template_mfcc)\n",
    "print(equal)"
   ]
  },
  {
   "cell_type": "code",
   "execution_count": 15,
   "metadata": {},
   "outputs": [
    {
     "name": "stdout",
     "output_type": "stream",
     "text": [
      "total file mfcc 18\n",
      "total file stretched 18\n",
      "Average MFCC shape: (1371, 13)\n",
      "True\n"
     ]
    }
   ],
   "source": [
    "# tes pake ini lebih bagus\n",
    "\n",
    "import librosa\n",
    "import numpy as np\n",
    "import noisereduce as nr\n",
    "from fastdtw import fastdtw\n",
    "from scipy.spatial.distance import cosine\n",
    "import os\n",
    "import csv\n",
    "from scipy.interpolate import interp1d\n",
    "from scipy.signal import butter, lfilter\n",
    "\n",
    "def remove_silence(y):\n",
    "     # Memisahkan audio menjadi bagian-bagian berdasarkan energi\n",
    "    parts = librosa.effects.split(y, top_db=25, frame_length=1024, hop_length=512)\n",
    "\n",
    "    # Menggabungkan bagian-bagian yang tidak diam\n",
    "    y_non_silent = []\n",
    "    for start, end in parts:\n",
    "        y_non_silent.extend(y[start:end])\n",
    "\n",
    "    # Mengubah list menjadi array numpy\n",
    "    y = np.array(y_non_silent)\n",
    "    return y\n",
    "\n",
    "def preprocessing(audio):\n",
    "    y , sr = librosa.load(audio, sr=44100)\n",
    "    # y = librosa.util.normalize(y)\n",
    "    y = y/np.max(np.abs(y))\n",
    "    y = remove_silence(y)\n",
    "    y = nr.reduce_noise(y, sr, prop_decrease=0.5)\n",
    "    # y = bandpass_filter(y, lowcut=100.0, highcut=3000.0, fs=sr, order=5)\n",
    "\n",
    "    return y,sr\n",
    "\n",
    "def extraction(audio):\n",
    "    y , sr = preprocessing(audio)\n",
    "    y = librosa.effects.preemphasis(y)\n",
    "    mfccs = librosa.feature.mfcc(y=y,\n",
    "                                 sr=sr,\n",
    "                                 n_mfcc=13,\n",
    "                                 window='hamming',\n",
    "                                 win_length=1024,\n",
    "                                 htk=True, # false = slaney, true = htk\n",
    "                                 hop_length=512,\n",
    "                                 n_fft=1024,\n",
    "                                 norm='ortho',\n",
    "                                 dct_type=2,\n",
    "                                 n_mels=20)\n",
    "    # return librosa.util.normalize(mfccs.T)\n",
    "    return mfccs.T\n",
    "\n",
    "\n",
    "def stretch_array(arr, target_length):\n",
    "    # Membuat array indeks asli dan array target yang lebih panjang\n",
    "    original_indices = np.linspace(0, len(arr) - 1, num=len(arr))\n",
    "    target_indices = np.linspace(0, len(arr) - 1, num=target_length)\n",
    "    \n",
    "    # Membuat fungsi interpolasi antara indeks asli dan target\n",
    "    interpolator = interp1d(original_indices, arr, kind='linear', axis=0)\n",
    "    \n",
    "    # Menghasilkan array yang diregangkan\n",
    "    stretched_arr = interpolator(target_indices)\n",
    "    return stretched_arr\n",
    "\n",
    "def average_mfccs_from_folder(folder_path):\n",
    "    # Inisialisasi list untuk menyimpan MFCC dari setiap file audio\n",
    "    all_mfccs = []\n",
    "    \n",
    "    # Iterasi melalui setiap file dalam folder\n",
    "    for i, file in enumerate(os.listdir(folder_path)):\n",
    "        if file.endswith('.wav'):  # Pastikan hanya memproses file audio\n",
    "            audio_path = os.path.join(folder_path, file)\n",
    "            mfccs = extraction(audio_path)\n",
    "            # Membuat output path tanpa ekstensi '.wav'\n",
    "            file_name, _ = os.path.splitext(file)\n",
    "            output_path = f\"../fix_hasil_template_mfcc/mfcc_{file_name}.csv\"\n",
    "            with open(output_path, 'w', newline='') as csvfile:\n",
    "                writer = csv.writer(csvfile)\n",
    "                writer.writerows(mfccs)\n",
    "            all_mfccs.append(mfccs)\n",
    "    \n",
    "    # Temukan dimensi terbesar di antara semua MFCC\n",
    "    max_shape = max([mfcc.shape for mfcc in all_mfccs])\n",
    "    \n",
    "    # Renggangkan MFCC yang lebih pendek agar mencapai dimensi maksimum\n",
    "    stretched_mfccs = []\n",
    "    for mfcc in all_mfccs:\n",
    "        stretched_mfcc = stretch_array(mfcc, max_shape[0])\n",
    "        stretched_mfccs.append(stretched_mfcc)\n",
    "        \n",
    "    # # Menyimpan setiap streched MFCC ke dalam file CSV\n",
    "    # for i, stretched_mfcc in enumerate(stretched_mfccs):\n",
    "    #     output_path = f\"../new_hasil_template_mfcc/stretched_mfcc_{i+1}.csv\"\n",
    "    #     with open(output_path, 'w', newline='') as csvfile:\n",
    "    #         writer = csv.writer(csvfile)\n",
    "    #         writer.writerows(stretched_mfcc)\n",
    "\n",
    "    #     print(f\"File CSV untuk stretch MFCC {i+1} telah disimpan: {output_path}\")\n",
    "    \n",
    "    # Hitung rata-rata MFCC satu per satu\n",
    "    averaged_mfccs = np.mean(stretched_mfccs, axis=0)\n",
    "    print(f'total file mfcc {len(all_mfccs)}')\n",
    "    print(f'total file stretched {len(stretched_mfccs)}')\n",
    "    # print(f'padded mfcss shape {padded_mfccs.shape}')\n",
    "    return averaged_mfccs\n",
    "\n",
    "folder_path = \"../Dataset/10.Ha^'\"\n",
    "average_mfcc = average_mfccs_from_folder(folder_path)\n",
    "print(\"Average MFCC shape:\", average_mfcc.shape)\n",
    "\n",
    "output_path = \"../fix_hasil_template_mfcc/template_Ha^'.csv\"\n",
    "np.savetxt(output_path, average_mfcc, delimiter=',')\n",
    "\n",
    "template_mfcc = np.loadtxt(output_path, delimiter=',')\n",
    "\n",
    "equal = np.allclose(average_mfcc, template_mfcc)\n",
    "print(equal)"
   ]
  },
  {
   "cell_type": "code",
   "execution_count": 1,
   "metadata": {},
   "outputs": [
    {
     "name": "stderr",
     "output_type": "stream",
     "text": [
      "c:\\Users\\ASUS\\AppData\\Local\\Programs\\Python\\Python310\\lib\\site-packages\\tqdm\\auto.py:22: TqdmWarning: IProgress not found. Please update jupyter and ipywidgets. See https://ipywidgets.readthedocs.io/en/stable/user_install.html\n",
      "  from .autonotebook import tqdm as notebook_tqdm\n"
     ]
    },
    {
     "name": "stdout",
     "output_type": "stream",
     "text": [
      "processing [\"01.Ha'_Alt\", '']\n",
      "True (217, 13) (217, 13)\n",
      "True (222, 13) (222, 13)\n",
      "True (201, 13) (201, 13)\n",
      "True (170, 13) (170, 13)\n",
      "True (169, 13) (169, 13)\n",
      "True (177, 13) (177, 13)\n",
      "True (245, 13) (245, 13)\n",
      "True (250, 13) (250, 13)\n",
      "True (284, 13) (284, 13)\n",
      "True (272, 13) (272, 13)\n",
      "True (262, 13) (262, 13)\n",
      "True (262, 13) (262, 13)\n",
      "(284, 13)\n",
      "(284, 13)\n",
      "processing [\"02.Kha'_Alt\", '']\n",
      "True (269, 13) (269, 13)\n",
      "True (268, 13) (268, 13)\n",
      "True (274, 13) (274, 13)\n",
      "True (253, 13) (253, 13)\n",
      "True (254, 13) (254, 13)\n",
      "True (262, 13) (262, 13)\n",
      "True (350, 13) (350, 13)\n",
      "True (359, 13) (359, 13)\n",
      "True (359, 13) (359, 13)\n",
      "True (488, 13) (488, 13)\n",
      "True (392, 13) (392, 13)\n",
      "True (484, 13) (484, 13)\n",
      "(488, 13)\n",
      "(488, 13)\n",
      "processing ['03.Shad_Alt', '']\n",
      "True (225, 13) (225, 13)\n",
      "True (232, 13) (232, 13)\n",
      "True (235, 13) (235, 13)\n",
      "True (198, 13) (198, 13)\n",
      "True (215, 13) (215, 13)\n",
      "True (205, 13) (205, 13)\n",
      "True (319, 13) (319, 13)\n",
      "True (307, 13) (307, 13)\n",
      "True (340, 13) (340, 13)\n",
      "True (333, 13) (333, 13)\n",
      "True (354, 13) (354, 13)\n",
      "True (379, 13) (379, 13)\n",
      "(379, 13)\n",
      "(379, 13)\n",
      "processing ['04.Dhad_Alt', '']\n",
      "True (127, 13) (127, 13)\n",
      "True (124, 13) (124, 13)\n",
      "True (127, 13) (127, 13)\n",
      "True (140, 13) (140, 13)\n",
      "True (145, 13) (145, 13)\n",
      "True (148, 13) (148, 13)\n",
      "True (135, 13) (135, 13)\n",
      "True (127, 13) (127, 13)\n",
      "True (145, 13) (145, 13)\n",
      "True (207, 13) (207, 13)\n",
      "True (211, 13) (211, 13)\n",
      "True (189, 13) (189, 13)\n",
      "(211, 13)\n",
      "(211, 13)\n",
      "processing [\"05.Tha'_Alt\", '']\n",
      "True (118, 13) (118, 13)\n",
      "True (117, 13) (117, 13)\n",
      "True (121, 13) (121, 13)\n",
      "True (126, 13) (126, 13)\n",
      "True (128, 13) (128, 13)\n",
      "True (194, 13) (194, 13)\n",
      "True (180, 13) (180, 13)\n",
      "True (182, 13) (182, 13)\n",
      "True (181, 13) (181, 13)\n",
      "True (232, 13) (232, 13)\n",
      "True (225, 13) (225, 13)\n",
      "True (231, 13) (231, 13)\n",
      "(232, 13)\n",
      "(232, 13)\n",
      "processing [\"06.Dhza'_Alt\", '']\n",
      "True (263, 13) (263, 13)\n",
      "True (252, 13) (252, 13)\n",
      "True (253, 13) (253, 13)\n",
      "True (295, 13) (295, 13)\n",
      "True (332, 13) (332, 13)\n",
      "True (291, 13) (291, 13)\n",
      "True (349, 13) (349, 13)\n",
      "True (347, 13) (347, 13)\n",
      "True (345, 13) (345, 13)\n",
      "True (420, 13) (420, 13)\n",
      "True (369, 13) (369, 13)\n",
      "True (375, 13) (375, 13)\n",
      "(420, 13)\n",
      "(420, 13)\n",
      "processing [\"07.'AIn_Alt\", '']\n",
      "True (387, 13) (387, 13)\n",
      "True (382, 13) (382, 13)\n",
      "True (427, 13) (427, 13)\n",
      "True (397, 13) (397, 13)\n",
      "True (406, 13) (406, 13)\n",
      "True (376, 13) (376, 13)\n",
      "True (521, 13) (521, 13)\n",
      "True (527, 13) (527, 13)\n",
      "True (538, 13) (538, 13)\n",
      "True (579, 13) (579, 13)\n",
      "True (593, 13) (593, 13)\n",
      "True (585, 13) (585, 13)\n",
      "(593, 13)\n",
      "(593, 13)\n",
      "processing ['08.Ghain_Alt', '']\n",
      "True (273, 13) (273, 13)\n",
      "True (284, 13) (284, 13)\n",
      "True (287, 13) (287, 13)\n",
      "True (325, 13) (325, 13)\n",
      "True (326, 13) (326, 13)\n",
      "True (335, 13) (335, 13)\n",
      "True (419, 13) (419, 13)\n",
      "True (408, 13) (408, 13)\n",
      "True (407, 13) (407, 13)\n",
      "True (538, 13) (538, 13)\n",
      "True (478, 13) (478, 13)\n",
      "True (498, 13) (498, 13)\n",
      "(538, 13)\n",
      "(538, 13)\n",
      "processing ['09.Qaf_Alt', '']\n",
      "True (197, 13) (197, 13)\n",
      "True (193, 13) (193, 13)\n",
      "True (189, 13) (189, 13)\n",
      "True (174, 13) (174, 13)\n",
      "True (181, 13) (181, 13)\n",
      "True (188, 13) (188, 13)\n",
      "True (231, 13) (231, 13)\n",
      "True (237, 13) (237, 13)\n",
      "True (241, 13) (241, 13)\n",
      "True (342, 13) (342, 13)\n",
      "True (348, 13) (348, 13)\n",
      "True (351, 13) (351, 13)\n",
      "(351, 13)\n",
      "(351, 13)\n",
      "processing [\"10.Ha^'_Alt\", '']\n",
      "True (302, 13) (302, 13)\n",
      "True (288, 13) (288, 13)\n",
      "True (292, 13) (292, 13)\n",
      "True (343, 13) (343, 13)\n",
      "True (328, 13) (328, 13)\n",
      "True (298, 13) (298, 13)\n",
      "True (448, 13) (448, 13)\n",
      "True (463, 13) (463, 13)\n",
      "True (475, 13) (475, 13)\n",
      "True (475, 13) (475, 13)\n",
      "True (507, 13) (507, 13)\n",
      "True (502, 13) (502, 13)\n",
      "(507, 13)\n",
      "(507, 13)\n"
     ]
    }
   ],
   "source": [
    "import librosa\n",
    "import numpy as np\n",
    "import noisereduce as nr\n",
    "from fastdtw import fastdtw\n",
    "from scipy.spatial.distance import cosine\n",
    "import os\n",
    "import csv\n",
    "from scipy.interpolate import interp1d\n",
    "from scipy.signal import butter, lfilter\n",
    "\n",
    "def remove_silence(y):\n",
    "     # Memisahkan audio menjadi bagian-bagian berdasarkan energi\n",
    "    parts = librosa.effects.split(y, top_db=25, frame_length=1024, hop_length=512)\n",
    "\n",
    "    # Menggabungkan bagian-bagian yang tidak diam\n",
    "    y_non_silent = []\n",
    "    for start, end in parts:\n",
    "        y_non_silent.extend(y[start:end])\n",
    "\n",
    "    # Mengubah list menjadi array numpy\n",
    "    y = np.array(y_non_silent)\n",
    "    return y\n",
    "\n",
    "def preprocessing(audio):\n",
    "    y , sr = librosa.load(audio, sr=44100)\n",
    "    y = librosa.effects.preemphasis(y, coef=0.97)\n",
    "    y = y/np.max(np.abs(y))\n",
    "    y = remove_silence(y)\n",
    "    y = nr.reduce_noise(y, sr, prop_decrease=0.8)\n",
    "    # y = bandpass_filter(y, lowcut=100.0, highcut=3000.0, fs=sr, order=5)\n",
    "\n",
    "    return y,sr\n",
    "\n",
    "def extraction(audio):\n",
    "    y , sr = preprocessing(audio)\n",
    "    # y = librosa.effects.preemphasis(y, coef=0.95)\n",
    "    mfccs = librosa.feature.mfcc(y=y,\n",
    "                                 sr=sr,\n",
    "                                 n_mfcc=13,\n",
    "                                 window='hamming',\n",
    "                                 win_length=1024,\n",
    "                                 htk=True, # false = slaney, true = htk\n",
    "                                 hop_length=512,\n",
    "                                 n_fft=1024,\n",
    "                                 norm=None,\n",
    "                                 dct_type=2,\n",
    "                                 n_mels=20)\n",
    "    # return librosa.util.normalize(mfccs.T)\n",
    "    return mfccs.T\n",
    "\n",
    "def stretch_array(arr, target_length):\n",
    "    # Membuat array indeks asli dan array target yang lebih panjang\n",
    "    original_indices = np.linspace(0, len(arr) - 1, num=len(arr))\n",
    "    target_indices = np.linspace(0, len(arr) - 1, num=target_length)\n",
    "    \n",
    "    # Membuat fungsi interpolasi antara indeks asli dan target\n",
    "    interpolator = interp1d(original_indices, arr, kind='linear', axis=0)\n",
    "    \n",
    "    # Menghasilkan array yang diregangkan\n",
    "    stretched_arr = interpolator(target_indices)\n",
    "    return stretched_arr\n",
    "\n",
    "def mfcc_to_csv(folder_path):\n",
    "    all_mfccs = []\n",
    "    for i, file in enumerate(os.listdir(folder_path)):\n",
    "        \n",
    "        audio_path = os.path.join(folder_path, file)\n",
    "        mfccs = extraction(audio_path)\n",
    "        # Membuat output path tanpa ekstensi '.wav'\n",
    "        file_name, _ = os.path.splitext(file)\n",
    "        output_path = f\"../fix_hasil_template_mfcc/Dataset_Alt_mfcc_{file_name}.csv\"\n",
    "        with open(output_path, 'w', newline='') as csvfile:\n",
    "            writer = csv.writer(csvfile)\n",
    "            writer.writerows(mfccs)\n",
    "        all_mfccs.append(mfccs)\n",
    "            \n",
    "\n",
    "        csv_file = np.loadtxt(output_path, delimiter=',')\n",
    "\n",
    "        equal = np.allclose(csv_file,mfccs)\n",
    "        print(equal,mfccs.shape,csv_file.shape)\n",
    "\n",
    "    # Temukan dimensi terbesar di antara semua MFCC\n",
    "    max_shape = max([mfcc.shape for mfcc in all_mfccs])\n",
    "    print(max_shape)\n",
    "    \n",
    "    # Renggangkan MFCC yang lebih pendek agar mencapai dimensi maksimum\n",
    "    stretched_mfccs = []\n",
    "    for mfcc in all_mfccs:\n",
    "        stretched_mfcc = stretch_array(mfcc, max_shape[0])\n",
    "        stretched_mfccs.append(stretched_mfcc)\n",
    "\n",
    "    averaged_mfccs = np.mean(stretched_mfccs, axis=0)\n",
    "    print(averaged_mfccs.shape)\n",
    "    folder_name = folder_path.split('/')[-2] # Mendapatkan nama folder\n",
    "    output_template_path = f\"../fix_hasil_template_mfcc/Alt_template_mfcc_{folder_name}.csv\"\n",
    "    np.savetxt(output_template_path, averaged_mfccs, delimiter=',')\n",
    "        \n",
    "\n",
    "\n",
    "root = \"../Dataset_Alt/\"\n",
    "list_template_folders = [\n",
    "    (\"01.Ha'_Alt/\"),\n",
    "    (\"02.Kha'_Alt/\"),\n",
    "    (\"03.Shad_Alt/\"),\n",
    "    (\"04.Dhad_Alt/\"),\n",
    "    (\"05.Tha'_Alt/\"),\n",
    "    (\"06.Dhza'_Alt/\"),\n",
    "    (\"07.'AIn_Alt/\"),\n",
    "    (\"08.Ghain_Alt/\"),\n",
    "    (\"09.Qaf_Alt/\"),\n",
    "    (\"10.Ha^'_Alt/\")\n",
    "]\n",
    "for folder in list_template_folders:\n",
    "    print(f\"processing {folder.split('/')}\")\n",
    "    folder=os.path.join(root,folder)\n",
    "    mfcc_to_csv(folder)"
   ]
  }
 ],
 "metadata": {
  "kernelspec": {
   "display_name": "Python 3",
   "language": "python",
   "name": "python3"
  },
  "language_info": {
   "codemirror_mode": {
    "name": "ipython",
    "version": 3
   },
   "file_extension": ".py",
   "mimetype": "text/x-python",
   "name": "python",
   "nbconvert_exporter": "python",
   "pygments_lexer": "ipython3",
   "version": "3.10.4"
  }
 },
 "nbformat": 4,
 "nbformat_minor": 2
}
