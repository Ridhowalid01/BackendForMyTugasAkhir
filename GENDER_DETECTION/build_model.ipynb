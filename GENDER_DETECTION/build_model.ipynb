{
 "cells": [
  {
   "cell_type": "code",
   "execution_count": 20,
   "metadata": {},
   "outputs": [],
   "source": [
    "import os\n",
    "import tensorflow as tf\n",
    "import numpy as np\n",
    "import librosa"
   ]
  },
  {
   "cell_type": "code",
   "execution_count": 21,
   "metadata": {},
   "outputs": [],
   "source": [
    "train_male = \"./Dataset/train/male\"\n",
    "train_female = \"./Dataset/train/female\"\n",
    "\n",
    "val_male = \"./Dataset/val/male\"\n",
    "val_female = \"./Dataset/val/female\"\n"
   ]
  },
  {
   "cell_type": "code",
   "execution_count": 22,
   "metadata": {},
   "outputs": [
    {
     "name": "stdout",
     "output_type": "stream",
     "text": [
      "train_Male = ['1105.wav', '1106.wav', '1107.wav', '1108.wav', '1109.wav', '1110.wav', '1111.wav', '1112.wav', '1113.wav', '1114.wav']\n",
      "train_Female = ['1000.wav', '1001.wav', '1002.wav', '1003.wav', '1004.wav', '1005.wav', '1006.wav', '1007.wav', '1008.wav', '1009.wav']\n",
      "val_Male = ['0.wav', '1.wav', '10.wav', '100.wav', '1000.wav', '1001.wav', '1002.wav', '1003.wav', '1004.wav', '1005.wav']\n",
      "val_Female = ['0.wav', '1.wav', '10.wav', '100.wav', '101.wav', '102.wav', '103.wav', '104.wav', '105.wav', '106.wav']\n"
     ]
    }
   ],
   "source": [
    "male_list = os.listdir(train_male)\n",
    "print(f\"train_Male = {male_list[:10]}\")\n",
    "\n",
    "female_list = os.listdir(train_female)\n",
    "print(f\"train_Female = {female_list[:10]}\")\n",
    "\n",
    "val_male_list = os.listdir(val_male)\n",
    "print(f\"val_Male = {val_male_list[:10]}\")\n",
    "\n",
    "val_female_list = os.listdir(val_female)\n",
    "print(f\"val_Female = {val_female_list[:10]}\")"
   ]
  },
  {
   "cell_type": "code",
   "execution_count": 23,
   "metadata": {},
   "outputs": [
    {
     "name": "stdout",
     "output_type": "stream",
     "text": [
      "total train_male = 2577\n",
      "total train_female = 1618\n",
      "total val_male = 1105\n",
      "total val_female = 693\n"
     ]
    }
   ],
   "source": [
    "print(f\"total train_male = {len(male_list)}\")\n",
    "print(f\"total train_female = {len(female_list)}\")\n",
    "\n",
    "print(f\"total val_male = {len(val_male_list)}\")\n",
    "print(f\"total val_female = {len(val_female_list)}\")"
   ]
  },
  {
   "cell_type": "code",
   "execution_count": 35,
   "metadata": {},
   "outputs": [],
   "source": [
    "def extract_features(file_path):\n",
    "    # Fungsi ekstraksi fitur suara (gunakan sesuai kebutuhan Anda)\n",
    "    # Contoh sederhana menggunakan Librosa\n",
    "    audio_data, sr = librosa.load(file_path, sr=None)\n",
    "    mfccs = librosa.feature.mfcc(y=audio_data, sr=sr, n_mfcc=40)\n",
    "    return np.mean(mfccs.T, axis=0)"
   ]
  },
  {
   "cell_type": "code",
   "execution_count": 36,
   "metadata": {},
   "outputs": [],
   "source": [
    "def load_data(folder_path, label):\n",
    "    data = []\n",
    "    labels = []\n",
    "    for filename in os.listdir(folder_path):\n",
    "        filepath = os.path.join(folder_path, filename)\n",
    "        features = extract_features(filepath)\n",
    "        data.append(features)\n",
    "        labels.append(label)\n",
    "    return np.array(data), np.array(labels)\n"
   ]
  },
  {
   "cell_type": "code",
   "execution_count": 37,
   "metadata": {},
   "outputs": [],
   "source": [
    "X_train_male, y_train_male = load_data(train_male, 0)"
   ]
  },
  {
   "cell_type": "code",
   "execution_count": 38,
   "metadata": {},
   "outputs": [],
   "source": [
    "X_train_female, y_train_female = load_data(train_female, 1)"
   ]
  },
  {
   "cell_type": "code",
   "execution_count": 39,
   "metadata": {},
   "outputs": [],
   "source": [
    "X_val_male, y_val_male = load_data(val_male, 0)"
   ]
  },
  {
   "cell_type": "code",
   "execution_count": 40,
   "metadata": {},
   "outputs": [],
   "source": [
    "X_val_female, y_val_female = load_data(val_female, 1)"
   ]
  },
  {
   "cell_type": "code",
   "execution_count": null,
   "metadata": {},
   "outputs": [],
   "source": []
  }
 ],
 "metadata": {
  "kernelspec": {
   "display_name": "Python 3",
   "language": "python",
   "name": "python3"
  },
  "language_info": {
   "codemirror_mode": {
    "name": "ipython",
    "version": 3
   },
   "file_extension": ".py",
   "mimetype": "text/x-python",
   "name": "python",
   "nbconvert_exporter": "python",
   "pygments_lexer": "ipython3",
   "version": "3.10.4"
  }
 },
 "nbformat": 4,
 "nbformat_minor": 2
}
