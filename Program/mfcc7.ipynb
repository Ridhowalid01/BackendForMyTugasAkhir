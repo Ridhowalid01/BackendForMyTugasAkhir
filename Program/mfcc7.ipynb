{
 "cells": [
  {
   "cell_type": "code",
   "execution_count": 860,
   "metadata": {},
   "outputs": [],
   "source": [
    "import librosa\n",
    "import numpy as np\n",
    "from scipy.spatial.distance import cosine\n",
    "from fastdtw import fastdtw\n",
    "import noisereduce as nr\n",
    "import simpledtw\n",
    "import os"
   ]
  },
  {
   "cell_type": "code",
   "execution_count": 861,
   "metadata": {},
   "outputs": [],
   "source": [
    "durasi = 12\n",
    "sample_rate = 44100\n",
    "target = durasi * sample_rate\n",
    "def pad_signal(signal, target_len=target):\n",
    "    \n",
    "    num_zeros_needed = target_len - len(signal)\n",
    "    \n",
    "    if num_zeros_needed > 0:\n",
    "\n",
    "        num_zeros_front = np.random.randint(num_zeros_needed)\n",
    "        num_zeros_back = num_zeros_needed - num_zeros_front\n",
    "        return np.pad(signal, (num_zeros_front, num_zeros_back), mode='constant')\n",
    "\n",
    "    else:\n",
    "        return signal"
   ]
  },
  {
   "cell_type": "code",
   "execution_count": 862,
   "metadata": {},
   "outputs": [],
   "source": [
    "def pre_emphasis(signal):\n",
    "    first_amp = signal[0]\n",
    "    all_amps_without_first = signal[1:]\n",
    "    all_amps_without_last = signal[:-1]\n",
    "    emphasized_signal = np.append(first_amp, all_amps_without_first - 0.97 * all_amps_without_last)\n",
    "    return emphasized_signal"
   ]
  },
  {
   "cell_type": "code",
   "execution_count": 863,
   "metadata": {},
   "outputs": [],
   "source": [
    "def preprocessing(audio):\n",
    "    y, sr = librosa.load(audio, sr=sample_rate)\n",
    "    y, _ = librosa.effects.trim(y, top_db=20)\n",
    "    y = librosa.util.normalize(y)\n",
    "    y = nr.reduce_noise(y, sr)\n",
    "    # y = pad_signal(y)\n",
    "    return y, sr\n",
    "    "
   ]
  },
  {
   "cell_type": "code",
   "execution_count": 864,
   "metadata": {},
   "outputs": [],
   "source": [
    "def extraction(audio):\n",
    "    y, sr = preprocessing(audio)\n",
    "    # y = pre_emphasis(y)\n",
    "    y = librosa.effects.preemphasis(y)\n",
    "\n",
    "    mfccs = librosa.feature.mfcc(\n",
    "        y = y,\n",
    "        sr = sr,\n",
    "        n_mfcc = 13,\n",
    "        window = 'hamming',\n",
    "        n_fft = int(sr * 0.025),\n",
    "        hop_length = int(sr * 0.01),\n",
    "        center = False,\n",
    "        n_mels = 128,\n",
    "        # lifter = 26,\n",
    "        fmin=0,\n",
    "        fmax=44100,\n",
    "    )\n",
    "    mfccs = librosa.util.normalize(mfccs)\n",
    "    return mfccs.T"
   ]
  },
  {
   "cell_type": "code",
   "execution_count": 865,
   "metadata": {},
   "outputs": [],
   "source": [
    "def calculate_dtw(mfccs1, mfccs2):\n",
    "    distance, _ = fastdtw(mfccs1, mfccs2, dist=cosine)\n",
    "    return distance"
   ]
  },
  {
   "cell_type": "code",
   "execution_count": 866,
   "metadata": {},
   "outputs": [
    {
     "name": "stdout",
     "output_type": "stream",
     "text": [
      "Distance = 9.532363559197682\n",
      "Distance = 18.557385489855328\n",
      "Distance = 20.730941720840786\n",
      "Distance = 28.241334316514823\n",
      "Distance = 0\n"
     ]
    }
   ],
   "source": [
    "def main(folder1, folder2, output_file):\n",
    "    files1 = os.listdir(folder1)\n",
    "    files2 = os.listdir(folder2)\n",
    "\n",
    "    with open(output_file, 'w') as f:\n",
    "        for file1 in files1:\n",
    "            for file2 in files2:\n",
    "                audio_path1 = os.path.join(folder1, file1)\n",
    "                audio_path2 = os.path.join(folder2, file2)\n",
    "\n",
    "                mfccs1 = extraction(audio_path1)\n",
    "                mfccs2 = extraction(audio_path2)\n",
    "\n",
    "                dtw_distance = calculate_dtw(mfccs1, mfccs2)\n",
    "\n",
    "                result_line = f\"Jarak DTW antara {file1} dan {file2}: {dtw_distance}\\n\"\n",
    "                print(result_line)\n",
    "                f.write(result_line)\n",
    "\n",
    "\n",
    "\n",
    "folder1 = \"../Dataset/03.Shad/\"\n",
    "folder2 = \"../Dataset/03.Shad/\"\n",
    "output_file = '../hasil_perbandingan/tes.txt'\n",
    "\n",
    "main(folder1, folder2, output_file)"
   ]
  },
  {
   "cell_type": "code",
   "execution_count": 867,
   "metadata": {},
   "outputs": [],
   "source": [
    "# audio_path1 = \"../Dataset/01.Ha\\'/Ha\\'_M1_1.wav\"\n",
    "# audio_path2 = \"../Dataset/01.Ha\\'/Ha\\'_M1_2.wav\"\n",
    "# audio_path3 = '../Dataset/09.Qaf/Qaf_M1_1.wav'\n",
    "# audio_path4 = '../Dataset/09.Qaf/Qaf_M2_1.wav'\n",
    "# audio_path5 = \"../Dataset/01.Ha\\'/Ha\\'_M2_1.wav\"\n",
    "\n",
    "\n",
    "# mfccs1 = extraction(audio_path1)\n",
    "# mfccs2 = extraction(audio_path2)\n",
    "# mfccs3 = extraction(audio_path3)\n",
    "# mfccs4 = extraction(audio_path4)\n",
    "# mfccs5 = extraction(audio_path5)\n",
    "\n",
    "# _, cost1, _, _, _ = simpledtw.dtw(mfccs1, mfccs2)\n",
    "# _, cost2, _, _, _ = simpledtw.dtw(mfccs1, mfccs5)\n",
    "# _, cost3, _, _, _ = simpledtw.dtw(mfccs1, mfccs3)\n",
    "# _, cost4, _, _, _ = simpledtw.dtw(mfccs1, mfccs4)\n",
    "\n",
    "# print(f\"Distance = {cost1}\")\n",
    "# print(f\"Distance = {cost2}\")\n",
    "# print(f\"Distance = {cost3}\")\n",
    "# print(f\"Distance = {cost4}\")"
   ]
  }
 ],
 "metadata": {
  "kernelspec": {
   "display_name": "Python 3",
   "language": "python",
   "name": "python3"
  },
  "language_info": {
   "codemirror_mode": {
    "name": "ipython",
    "version": 3
   },
   "file_extension": ".py",
   "mimetype": "text/x-python",
   "name": "python",
   "nbconvert_exporter": "python",
   "pygments_lexer": "ipython3",
   "version": "3.10.4"
  }
 },
 "nbformat": 4,
 "nbformat_minor": 2
}
