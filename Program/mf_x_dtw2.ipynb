{
 "cells": [
  {
   "cell_type": "code",
   "execution_count": 7,
   "metadata": {},
   "outputs": [],
   "source": [
    "import librosa\n",
    "import matplotlib.pyplot as plt\n",
    "import numpy as np\n",
    "import IPython.display as ipd\n",
    "import noisereduce as nr\n",
    "from scipy.io import wavfile\n",
    "from fastdtw import fastdtw\n",
    "from scipy.spatial.distance import cosine\n",
    "from scipy.spatial.distance import euclidean\n",
    "from sklearn.preprocessing import normalize"
   ]
  },
  {
   "cell_type": "code",
   "execution_count": 8,
   "metadata": {},
   "outputs": [],
   "source": [
    "def preprocessing(audio):\n",
    "    y , sr = librosa.load(audio, sr=16000)\n",
    "    y, _ = librosa.effects.trim(y, top_db=20)\n",
    "    # y = librosa.util.normalize(y)\n",
    "    # y = librosa.effects.preemphasis(y)\n",
    "    y = nr.reduce_noise(y, sr)\n",
    "    y = normalize(y[:, np.newaxis], axis=0).ravel()\n",
    "    return y,sr"
   ]
  },
  {
   "cell_type": "code",
   "execution_count": 12,
   "metadata": {},
   "outputs": [
    {
     "name": "stdout",
     "output_type": "stream",
     "text": [
      "Distance = 4.504355341460943\n",
      "Distance = 10.51018509522019\n",
      "Distance = 11.468414598128284\n",
      "Distance = 15.717739567323155\n"
     ]
    }
   ],
   "source": [
    "def extraction(audio):\n",
    "    y , sr = preprocessing(audio)\n",
    "    y = librosa.effects.preemphasis(y)\n",
    "    mfccs = librosa.feature.mfcc(y=y,\n",
    "                                 sr=sr,\n",
    "                                 n_mfcc=13,\n",
    "                                 window='hamming',\n",
    "                                 htk=False,\n",
    "                                 hop_length=256,\n",
    "                                 n_fft=512,\n",
    "                                 norm='ortho',\n",
    "                                 n_mels=20)\n",
    "    mfccs = librosa.util.normalize(mfccs)\n",
    "    return mfccs.T\n",
    "\n",
    "audio_path1 = \"../Dataset/01.Ha\\'/Ha\\'_M1_1.wav\"\n",
    "audio_path2 = \"../Dataset/01.Ha\\'/Ha\\'_M1_2.wav\"\n",
    "audio_path3 = '../Dataset/09.Qaf/Qaf_M1_1.wav'\n",
    "audio_path4 = '../Dataset/09.Qaf/Qaf_M2_1.wav'\n",
    "audio_path5 = \"../Dataset/01.Ha\\'/Ha\\'_M2_1.wav\"\n",
    "\n",
    "\n",
    "mfccs1 = extraction(audio_path1)\n",
    "mfccs2 = extraction(audio_path2)\n",
    "mfccs3 = extraction(audio_path3)\n",
    "mfccs4 = extraction(audio_path4)\n",
    "mfccs5 = extraction(audio_path5)\n",
    "                                        # Bacaan, Orang\n",
    "distance, path = fastdtw(mfccs1, mfccs2, radius=1, dist=cosine) # sama sama\n",
    "distance1, path1 = fastdtw(mfccs1, mfccs5, radius=1, dist=cosine) # sama, beda\n",
    "distance2, path2 = fastdtw(mfccs1, mfccs3, radius=1, dist=cosine) # beda, sama\n",
    "distance3, path3 = fastdtw(mfccs1, mfccs4, radius=1, dist=cosine) # beda, beda\n",
    "\n",
    "\n",
    "print(f'Distance = {distance}')\n",
    "print(f'Distance = {distance1}')\n",
    "print(f'Distance = {distance2}')\n",
    "print(f'Distance = {distance3}')"
   ]
  },
  {
   "cell_type": "code",
   "execution_count": 118,
   "metadata": {},
   "outputs": [
    {
     "name": "stdout",
     "output_type": "stream",
     "text": [
      "Distance = 2772.7705828472726\n",
      "Distance = 4167.997624330035\n",
      "Distance = 4789.146439412706\n",
      "Distance = 4766.602340111671\n"
     ]
    }
   ],
   "source": [
    "from python_speech_features import mfcc\n",
    "from python_speech_features import delta\n",
    "from fastdtw import fastdtw\n",
    "import scipy.io.wavfile as wav\n",
    "import numpy as np\n",
    "from scipy.spatial.distance import cosine\n",
    "from scipy.spatial.distance import euclidean\n",
    "\n",
    "def extraction(audio):\n",
    "    sig, rate = preprocessing(audio)\n",
    "    mfcc_feat = mfcc(sig,\n",
    "                samplerate=16000,\n",
    "                winlen=0.025,\n",
    "                winstep=0.01,\n",
    "                numcep=13,\n",
    "                nfilt=26,\n",
    "                preemph=0.95,\n",
    "                ceplifter=22,\n",
    "                winfunc=np.hamming)\n",
    "    # mfcc_feat = delta(mfcc_feat, 1)\n",
    "    # mfcc_feat = delta(mfcc_feat, 2)\n",
    "    \n",
    "    mfcc_feat = librosa.util.normalize(mfcc_feat)\n",
    "    # return np.mean(mfcc_feat, axis=0)\n",
    "    return mfcc_feat\n",
    "\n",
    "\n",
    "\n",
    "audio_path1 = \"../Dataset/01.Ha\\'/Ha\\'_M1_1.wav\"\n",
    "audio_path2 = \"../Dataset/01.Ha\\'/Ha\\'_M1_2.wav\"\n",
    "audio_path3 = '../Dataset/09.Qaf/Qaf_M1_1.wav'\n",
    "audio_path4 = '../Dataset/09.Qaf/Qaf_F2_1.wav'\n",
    "audio_path5 = \"../Dataset/01.Ha\\'/Ha\\'_F2_1.wav\"\n",
    "\n",
    "\n",
    "mfccs1 = extraction(audio_path1)\n",
    "mfccs2 = extraction(audio_path2)\n",
    "mfccs3 = extraction(audio_path3)\n",
    "mfccs4 = extraction(audio_path4)\n",
    "mfccs5 = extraction(audio_path5)\n",
    "                                        # Bacaan, Orang\n",
    "distance, path = fastdtw(mfccs1, mfccs2) # sama sama\n",
    "distance1, path1 = fastdtw(mfccs1, mfccs5) # sama, beda\n",
    "distance2, path2 = fastdtw(mfccs1, mfccs3) # beda, sama\n",
    "distance3, path3 = fastdtw(mfccs1, mfccs4) # beda, beda\n",
    "\n",
    "\n",
    "print(f'Distance = {distance}')\n",
    "print(f'Distance = {distance1}')\n",
    "print(f'Distance = {distance2}')\n",
    "print(f'Distance = {distance3}')\n",
    "\n"
   ]
  },
  {
   "cell_type": "code",
   "execution_count": null,
   "metadata": {},
   "outputs": [],
   "source": []
  }
 ],
 "metadata": {
  "kernelspec": {
   "display_name": "Python 3",
   "language": "python",
   "name": "python3"
  },
  "language_info": {
   "codemirror_mode": {
    "name": "ipython",
    "version": 3
   },
   "file_extension": ".py",
   "mimetype": "text/x-python",
   "name": "python",
   "nbconvert_exporter": "python",
   "pygments_lexer": "ipython3",
   "version": "3.10.4"
  }
 },
 "nbformat": 4,
 "nbformat_minor": 2
}
